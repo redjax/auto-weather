{
 "cells": [
  {
   "cell_type": "code",
   "execution_count": null,
   "id": "0",
   "metadata": {},
   "outputs": [],
   "source": [
    "from __future__ import annotations\n",
    "\n",
    "%load_ext autoreload\n",
    "%autoreload 2"
   ]
  },
  {
   "cell_type": "code",
   "execution_count": null,
   "id": "1",
   "metadata": {},
   "outputs": [],
   "source": [
    "from auto_weather import datalab, weatherapi_client\n",
    "from auto_weather.core import setup\n",
    "from auto_weather.core.depends import db_depends\n",
    "from auto_weather.domain import (\n",
    "    CurrentWeatherIn,\n",
    "    CurrentWeatherModel,\n",
    "    CurrentWeatherOut,\n",
    "    CurrentWeatherRepository,\n",
    "    LocationIn,\n",
    "    LocationModel,\n",
    "    LocationOut,\n",
    "    LocationRepository,\n",
    ")"
   ]
  },
  {
   "cell_type": "code",
   "execution_count": null,
   "id": "2",
   "metadata": {},
   "outputs": [],
   "source": [
    "current_weather_res = weatherapi_client.client.current.get_current_weather()\n",
    "current_weather_res"
   ]
  },
  {
   "cell_type": "code",
   "execution_count": null,
   "id": "3",
   "metadata": {},
   "outputs": [],
   "source": [
    "location = weatherapi_client.convert.location_dict_to_schema(\n",
    "        current_weather_res[\"location\"]\n",
    "    )\n",
    "\n",
    "current_weather = weatherapi_client.convert.current_weather_dict_to_schema(\n",
    "        current_weather_res[\"current\"]\n",
    "    )"
   ]
  },
  {
   "cell_type": "code",
   "execution_count": null,
   "id": "4",
   "metadata": {},
   "outputs": [],
   "source": [
    "location"
   ]
  },
  {
   "cell_type": "code",
   "execution_count": null,
   "id": "5",
   "metadata": {},
   "outputs": [],
   "source": [
    "current_weather"
   ]
  },
  {
   "cell_type": "code",
   "execution_count": null,
   "id": "6",
   "metadata": {},
   "outputs": [],
   "source": [
    "try:\n",
    "    weatherapi_client.client.db_ops.save_current_weather(\n",
    "        current_weather_schema=current_weather, location_schema=location\n",
    "    )\n",
    "except Exception as exc:\n",
    "    msg = f\"({type(exc)}) Error saving current weather & location to database. Details: {exc}\"\n",
    "    display(f\"[ERROR] {msg}\")"
   ]
  },
  {
   "cell_type": "code",
   "execution_count": null,
   "id": "7",
   "metadata": {},
   "outputs": [],
   "source": [
    "weather_forecast_res = weatherapi_client.client.forecast.get_weather_forecast()\n",
    "weather_forecast_res"
   ]
  },
  {
   "cell_type": "code",
   "execution_count": null,
   "id": "8",
   "metadata": {},
   "outputs": [],
   "source": [
    "weather_forecast = weatherapi_client.convert.weather_forecast_dict_to_schema(\n",
    "        weather_forecast_res[\"forecast\"]\n",
    "    )\n",
    "\n",
    "weather_forecast"
   ]
  },
  {
   "cell_type": "code",
   "execution_count": null,
   "id": "9",
   "metadata": {},
   "outputs": [],
   "source": [
    "try:\n",
    "    weatherapi_client.client.db_ops.save_forecast(forecast_schema=weather_forecast)\n",
    "except Exception as exc:\n",
    "    msg = f\"({type(exc)}) Error saving current weather & location to database. Details: {exc}\"\n",
    "    log.error(msg)"
   ]
  },
  {
   "cell_type": "code",
   "execution_count": null,
   "id": "10",
   "metadata": {},
   "outputs": [],
   "source": []
  }
 ],
 "metadata": {
  "kernelspec": {
   "display_name": "Python 3 (ipykernel)",
   "language": "python",
   "name": "python3"
  },
  "language_info": {
   "codemirror_mode": {
    "name": "ipython",
    "version": 3
   },
   "file_extension": ".py",
   "mimetype": "text/x-python",
   "name": "python",
   "nbconvert_exporter": "python",
   "pygments_lexer": "ipython3",
   "version": "3.11.8"
  }
 },
 "nbformat": 4,
 "nbformat_minor": 5
}
